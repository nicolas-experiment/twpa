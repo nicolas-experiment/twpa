{
 "cells": [
  {
   "cell_type": "markdown",
   "metadata": {},
   "source": [
    "# Bandstructure of the twpa\n",
    "This is a notebook dedicated to calculate the dispersion relation of the squid-array twpa. All the calculation presented here are inspired by the theory developped by Erickson and Pappas in their article \"Theory of multiwave mixing within the superconducting kinetic-inductance traveling-wave amplifier\" available here https://arxiv.org/pdf/1612.00365.pdf."
   ]
  },
  {
   "cell_type": "markdown",
   "metadata": {},
   "source": [
    "First we define the periodic loading of our twpa using the different parameters provided in the Erickson paper."
   ]
  },
  {
   "cell_type": "code",
   "execution_count": 1,
   "metadata": {
    "collapsed": true
   },
   "outputs": [],
   "source": [
    "import matplotlib.pyplot as plt\n",
    "import numpy as np\n",
    "from IPython.display import Image"
   ]
  },
  {
   "cell_type": "markdown",
   "metadata": {},
   "source": [
    "The equivalent circuit we will use is plotted below. The amplifier consists in periodic cells of lenght $l_0$ built on unit cells of lenght a in such a way that $l_0 = Na$. The periodicity of the network is contained into the values of L and C. $L(x + l_0)= L(x)$ and $C(x + l_0) = C(x)$. "
   ]
  },
  {
   "cell_type": "code",
   "execution_count": 3,
   "metadata": {},
   "outputs": [
    {
     "data": {
      "image/jpeg": "[encoded data removed]",
      "text/plain": [
       "<IPython.core.display.Image object>"
      ]
     },
     "execution_count": 3,
     "metadata": {},
     "output_type": "execute_result"
    }
   ],
   "source": [
    "twpa = Image(filename = './schemes/twpa1.jpg')\n",
    "twpa"
   ]
  },
  {
   "cell_type": "code",
   "execution_count": 74,
   "metadata": {
    "collapsed": true
   },
   "outputs": [],
   "source": [
    "R = 7                #Number of regions\n",
    "l0 = 565          #Unit cell length in µm\n",
    "\n",
    "Lr = np.array([0.10, 0.20, 0.50, 0.55, 0.50, 0.20, 0.10])                   #Inductance per unit length in pH/µm\n",
    "Cr = np.array([0.745, 0.745, 0.745, 0.745, 0.745, 0.745, 0.745])            #Capacitance per unit length in fF/µm\n",
    "dx = np.array([l0/7, l0/7, l0/7, l0/7, l0/7, l0/7, l0/7])                         #Lengths of the loaded regions in µm\n",
    "r = np.array([1, 2, 3, 4, 5, 6, 7]) \n",
    "a = l0/R"
   ]
  },
  {
   "cell_type": "code",
   "execution_count": 75,
   "metadata": {
    "collapsed": true
   },
   "outputs": [],
   "source": [
    "l0 = l0*10**(-6)       #In m\n",
    "Lr = Lr*10**(-6)       #In H/m\n",
    "Cr = Cr*10**(-9)       #In F/m\n",
    "dx = dx*10**(-6)     #In m\n",
    "a  = a*10**(-6)      #in m\n",
    "Cj = 0.540*10**(-9)  #in F/m"
   ]
  },
  {
   "cell_type": "markdown",
   "metadata": {},
   "source": [
    "All this part is dedicated to the calculation of the dispersion matrix as defined in eq (23).\n",
    "\n",
    "$D_{n,n'} = \\frac{1}{L_{(R+1)/2}C_{(R+1)/2}}(k + \\frac{2\\pi n}{l_0})²\\delta_{n,n'} + [\\mathcal{D}_{n-n'}(\\{L_r\\}\\{C_r\\})(k + \\frac{2\\pi n}{l_0}) + \\mathcal{D}_{n-n'}(\\{C_r\\}\\{L_r\\})(k + \\frac{2\\pi n'}{l_0})](k + \\frac{2\\pi n'}{l_0})$\n",
    "\n",
    "Where the $\\mathcal{D}_{n}$ coefficients are defined in eqution (24) by\n",
    "\n",
    "$\\mathcal{D}_{n}(\\{L_r\\}\\{C_r\\}) = \\frac{1}{2\\pi n}\\sum_{r=1}^{(R-1)/2}(\\frac{1}{L_r} + \\frac{1}{L_{r+1}})(\\frac{1}{C_r} - \\frac{1}{C_{r+1}})\\sin(2\\pi\\sum_{r'=1}^{r}\\Delta x_{r'}n/l_0)$"
   ]
  },
  {
   "cell_type": "code",
   "execution_count": 76,
   "metadata": {
    "collapsed": true
   },
   "outputs": [],
   "source": [
    "\n",
    "def S(n, R):\n",
    "    return np.array([np.sin(2*np.pi*np.sum((n/l0)*dx[0:r+1])) for r in np.arange(0,int((R-1)/2))])         #sinus term in equation (24)\n",
    "\n",
    "def X(Ar,Br):\n",
    "    return (Ar[0:int((R-1)/2)]**(-1) + Ar[1:int((R+1)/2)]**(-1))*(Br[0:int((R-1)/2)]**(-1) - Br[1:int((R+1)/2)]**(-1))   #1/Lr*1/Cr          term in eq. (24)\n",
    "\n",
    "def Dn(n,Ar,Br):\n",
    "    if n !=0:\n",
    "        return (2*np.pi*n)**(-1)*np.sum(X(Ar,Br)*S(n,R))        #total sum in eq. (24)\n",
    "    else:\n",
    "        return np.sum(X(Ar,Br)*np.array([l0**(-1)*np.sum(dx[0:r+1]) for r in np.arange(0,int((R-1)/2))]))\n",
    "    "
   ]
  },
  {
   "cell_type": "code",
   "execution_count": 77,
   "metadata": {
    "collapsed": true
   },
   "outputs": [],
   "source": [
    "#Definition of the matrix elements Dnm as in equation (23)\n",
    "#---------------------------------------------------------\n",
    "\n",
    "def D(n,m,k):\n",
    "    if n == m:\n",
    "        delta = (Lr[int((R-1)/2)]*Cr[int((R-1)/2)])**(-1)*(k + 2*np.pi*n/l0)**2         #Kronecker term in eq. (23)\n",
    "    else:\n",
    "        delta = 0\n",
    "        \n",
    "    return delta + (Dn(n-m,Lr,Cr)*(k + 2*np.pi*n/l0) + Dn(n-m,Cr,Lr)*(k + 2*np.pi*m/l0))*(k + 2*np.pi*m/l0)\n"
   ]
  },
  {
   "cell_type": "code",
   "execution_count": 78,
   "metadata": {
    "collapsed": true
   },
   "outputs": [],
   "source": [
    "def Disp(N,k):\n",
    "    disp = np.zeros((N,N))                               \n",
    "    for n in np.arange(0,N):                             \n",
    "        for m in np.arange(0,N):\n",
    "            disp[n,m] = D(n - N//2,m - N//2,k)\n",
    "    return disp"
   ]
  },
  {
   "cell_type": "markdown",
   "metadata": {},
   "source": [
    "Then we define the matrix element corresponding to the dispersive term $C_J$ in the wave equation. To do this we rely on equation (B3) provided in appendix B. \n",
    "\n",
    "$C_{n}^{-1}= \\frac{1}{C_{(R+1)/2}}\\delta_{n,0} + \\frac{1}{\\pi n}\\sum_{r=1}^{(R-1)/2}(\\frac{1}{C_r} - \\frac{1}{C_{r+1}})\\sin(2\\pi\\sum_{r'=1}^{r}\\Delta x_{r'}n/l_0)$"
   ]
  },
  {
   "cell_type": "code",
   "execution_count": 79,
   "metadata": {
    "collapsed": true
   },
   "outputs": [],
   "source": [
    "def Cnm1(n):\n",
    "    C = 0\n",
    "    deltaC = Cr[0:int((R-1)/2)]**(-1) - Cr[1:int((R+1)/2)]**(-1)\n",
    "    if n !=0:\n",
    "        Sr = np.array([np.sin(2*np.pi*r*a*n/l0) for r in np.arange(0,(R - 1)//2)])\n",
    "        (np.pi*n)**(-1)*np.sum(deltaC*Sr)\n",
    "    else:\n",
    "        Sr = np.array([2*a*r/l0 for r in np.arange(0,(R -1)//2)])\n",
    "        delta =  Cr[(R - 1)//2]**(-1)\n",
    "        C = delta + np.sum(deltaC*Sr)\n",
    "    return C \n",
    "    "
   ]
  },
  {
   "cell_type": "markdown",
   "metadata": {},
   "source": [
    "Then we define the $\\Delta$ matrix containing all the dispersive effects (due to capacitors $C_J$) of the transmission line"
   ]
  },
  {
   "cell_type": "code",
   "execution_count": 80,
   "metadata": {
    "collapsed": true
   },
   "outputs": [],
   "source": [
    "def dnm(n,m,k):\n",
    "    if n == m:\n",
    "        return a**(-2) + Cj*Cnm1(n-m)*(k + (2*np.pi*m)/l0)**2\n",
    "    else:\n",
    "        return Cj*Cnm1(n-m)*(k + (2*np.pi*m)/l0)**2\n",
    "    "
   ]
  },
  {
   "cell_type": "code",
   "execution_count": 81,
   "metadata": {
    "collapsed": true
   },
   "outputs": [],
   "source": [
    "def Delta(N,k):\n",
    "    delta = np.zeros((N,N))                               \n",
    "    for n in np.arange(0,N):                             \n",
    "        for m in np.arange(0,N):\n",
    "            delta[n,m] = dnm(n - N//2,m - N//2,k)\n",
    "    return delta"
   ]
  },
  {
   "cell_type": "markdown",
   "metadata": {},
   "source": [
    "With these two matrices defined we can now caculate the band structure thanks to the following equation\n",
    "\n",
    "$\\Delta(k)^{-1}D(k)V(k) = \\Omega(k)²V(k)$"
   ]
  },
  {
   "cell_type": "code",
   "execution_count": 82,
   "metadata": {
    "collapsed": true
   },
   "outputs": [],
   "source": [
    "from numpy.linalg import inv\n",
    "from numpy.linalg import eig\n",
    "\n",
    "K = np.linspace(-np.pi/l0,np.pi/l0,100)"
   ]
  },
  {
   "cell_type": "code",
   "execution_count": 99,
   "metadata": {
    "collapsed": true
   },
   "outputs": [],
   "source": [
    "w0 = np.array([np.sort(np.abs(eig(np.dot(inv(Delta(15,k)),Disp(15,k)))[0]))[0] for k in K])\n",
    "wm1 = np.array([np.sort(np.abs(eig(np.dot(inv(Delta(15,k)),Disp(15,k)))[0]))[1] for k in (K - 2*np.pi/l0)])\n",
    "w1 = np.array([np.sort(np.abs(eig(np.dot(inv(Delta(15,k)),Disp(15,k)))[0]))[2] for k in (K + 2*np.pi/l0)])\n",
    "wm2 = np.array([np.sort(np.abs(eig(np.dot(inv(Delta(15,k)),Disp(15,k)))[0]))[3] for k in (K - 2*np.pi/l0)])\n",
    "w2 = np.array([np.sort(np.abs(eig(np.dot(inv(Delta(15,k)),Disp(15,k)))[0]))[4] for k in (K + 2*np.pi/l0)])\n",
    "#wm3 = np.array([np.sort(np.abs(eig(np.dot(inv(Delta(15,k)),Disp(15,k)))[0]))[6] for k in (K - 3*np.pi/l0)])"
   ]
  },
  {
   "cell_type": "code",
   "execution_count": 104,
   "metadata": {},
   "outputs": [
    {
     "data": {
      "image/png": "[encoded data removed]",
      "text/plain": [
       "<matplotlib.figure.Figure at 0x7f8bef10c668>"
      ]
     },
     "metadata": {},
     "output_type": "display_data"
    }
   ],
   "source": [
    "plt.plot(K*l0/np.pi,w0**0.5*10**(-9))\n",
    "plt.plot(K*l0/np.pi,wm1**0.5*10**(-9))\n",
    "plt.plot(K*l0/np.pi,w1**0.5*10**(-9))\n",
    "plt.plot(K*l0/np.pi,wm2**0.5*10**(-9))\n",
    "plt.plot(K*l0/np.pi,w2**0.5*10**(-9))\n",
    "plt.show()"
   ]
  },
  {
   "cell_type": "code",
   "execution_count": 106,
   "metadata": {},
   "outputs": [
    {
     "data": {
      "image/png": "[encoded data removed]",
      "text/plain": [
       "<matplotlib.figure.Figure at 0x7f8bef602748>"
      ]
     },
     "metadata": {},
     "output_type": "display_data"
    }
   ],
   "source": [
    "Kext = np.linspace(0,np.pi/l0,50)\n",
    "w0e = w0[50:]**0.5*10**(-9)\n",
    "w1e = wm1[0:50]**0.5*10**(-9)\n",
    "w2e = w1[50:]**0.5*10**(-9)\n",
    "w3e = wm2[0:50]**0.5*10**(-9)\n",
    "w4e = w2[50:]**0.5*10**(-9)\n",
    "\n",
    "fit = np.polyfit((Kext + np.pi/l0)*l0/np.pi,w1e,1)   #Linear fit over the band we want to operate\n",
    "z = np.poly1d(fit)\n",
    "\n",
    "plt.plot(Kext*l0/np.pi,w0e,'b')\n",
    "plt.plot((Kext + np.pi/l0)*l0/np.pi, w1e,\"b\")\n",
    "plt.plot((Kext + 2*np.pi/l0)*l0/np.pi, w2e,\"b\")\n",
    "plt.plot((Kext + 3*np.pi/l0)*l0/np.pi, w3e,\"b\")\n",
    "plt.plot((Kext + 4*np.pi/l0)*l0/np.pi, w4e,\"b\")\n",
    "plt.plot(((Kext + np.pi/l0))*l0/np.pi,z((Kext + np.pi/l0)*l0/np.pi),\"r\")\n",
    "plt.show()"
   ]
  },
  {
   "cell_type": "markdown",
   "metadata": {
    "collapsed": true
   },
   "source": []
  },
  {
   "cell_type": "code",
   "execution_count": null,
   "metadata": {
    "collapsed": true
   },
   "outputs": [],
   "source": []
  }
 ],
 "metadata": {
  "kernelspec": {
   "display_name": "Python 3",
   "language": "python",
   "name": "python3"
  },
  "language_info": {
   "codemirror_mode": {
    "name": "ipython",
    "version": 3
   },
   "file_extension": ".py",
   "mimetype": "text/x-python",
   "name": "python",
   "nbconvert_exporter": "python",
   "pygments_lexer": "ipython3",
   "version": "3.6.1"
  }
 },
 "nbformat": 4,
 "nbformat_minor": 2
}
